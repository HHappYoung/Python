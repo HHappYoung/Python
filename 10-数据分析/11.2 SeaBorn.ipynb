{
 "cells": [
  {
   "cell_type": "markdown",
   "metadata": {},
   "source": [
    "## II.Seaborn"
   ]
  },
  {
   "cell_type": "markdown",
   "metadata": {},
   "source": [
    "- [API](https://seaborn.pydata.org/api.html)\n",
    "    - [seaborn.histplot](https://seaborn.pydata.org/generated/seaborn.histplot.html)"
   ]
  }
 ],
 "metadata": {
  "language_info": {
   "name": "python"
  }
 },
 "nbformat": 4,
 "nbformat_minor": 2
}
