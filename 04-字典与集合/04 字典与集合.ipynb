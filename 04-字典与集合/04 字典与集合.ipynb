{
 "cells": [
  {
   "cell_type": "markdown",
   "id": "2aedaca0",
   "metadata": {},
   "source": [
    "# 一、字典"
   ]
  },
  {
   "cell_type": "markdown",
   "id": "d1dcec0b",
   "metadata": {},
   "source": [
    "## (三) 字典的内建函数和方法"
   ]
  },
  {
   "cell_type": "code",
   "execution_count": 3,
   "id": "b19d7d9d",
   "metadata": {},
   "outputs": [
    {
     "data": {
      "text/plain": [
       "dict_keys(['Mayue', 'Lilin', 'Wuyun'])"
      ]
     },
     "execution_count": 3,
     "metadata": {},
     "output_type": "execute_result"
    }
   ],
   "source": [
    "aDict = {'Mayue':3000, 'Lilin':4500, 'Wuyun':8000}\n",
    "aDict.keys()"
   ]
  },
  {
   "cell_type": "code",
   "execution_count": 4,
   "id": "b4006405",
   "metadata": {},
   "outputs": [
    {
     "data": {
      "text/plain": [
       "4500"
      ]
     },
     "execution_count": 4,
     "metadata": {},
     "output_type": "execute_result"
    }
   ],
   "source": [
    "aDict.get('Lilin')"
   ]
  }
 ],
 "metadata": {
  "kernelspec": {
   "display_name": "Python 3 (ipykernel)",
   "language": "python",
   "name": "python3"
  },
  "language_info": {
   "codemirror_mode": {
    "name": "ipython",
    "version": 3
   },
   "file_extension": ".py",
   "mimetype": "text/x-python",
   "name": "python",
   "nbconvert_exporter": "python",
   "pygments_lexer": "ipython3",
   "version": "3.10.9"
  }
 },
 "nbformat": 4,
 "nbformat_minor": 5
}
