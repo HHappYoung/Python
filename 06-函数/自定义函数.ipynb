{
 "cells": [
  {
   "cell_type": "markdown",
   "id": "a3000b2d",
   "metadata": {},
   "source": [
    "<a id='section_id2'></a>"
   ]
  },
  {
   "cell_type": "markdown",
   "id": "flexible-import",
   "metadata": {},
   "source": [
    "时序数据"
   ]
  },
  {
   "cell_type": "code",
   "execution_count": null,
   "id": "jewish-frontier",
   "metadata": {},
   "outputs": [],
   "source": [
    "import time\n",
    "def s2t(day=\"2020-09-10\"):#字符串(string)转时间戳(time stamp)\n",
    "    st=time.strptime(day, \"%Y-%m-%d\")\n",
    "    return time.mktime(st)\n",
    "def s2t2(day=\"2020-09-10 00:00:00\"):\n",
    "    st=time.strptime(day, \"%Y-%m-%d %H:%M:%S\")\n",
    "    return time.mktime(st)\n",
    "s2t(\"2022-01-01\")"
   ]
  },
  {
   "cell_type": "code",
   "execution_count": null,
   "id": "danish-zambia",
   "metadata": {},
   "outputs": [],
   "source": [
    "import time\n",
    "def t2s(t=1640966400):#时间戳转字符串\n",
    "    st=time.localtime(t)\n",
    "    return time.strftime(\"%Y-%m-%d\",st) \n",
    "def t2s2(t=1640966400):\n",
    "    st=time.localtime(t)\n",
    "    return time.strftime(\"%Y-%m-%d %H:%M:%S\",st) \n",
    "t2s2()"
   ]
  },
  {
   "cell_type": "markdown",
   "id": "biological-jewelry",
   "metadata": {},
   "source": [
    "面板数据"
   ]
  },
  {
   "cell_type": "code",
   "execution_count": null,
   "id": "technological-auditor",
   "metadata": {},
   "outputs": [],
   "source": [
    "import time\n",
    "def get_daysdiff(day1,day2):\n",
    "    smp1=time.mktime(time.strptime(day1,\"%Y-%m-%d\")) #开始时间\n",
    "    smp2=time.mktime(time.strptime(day2,\"%Y-%m-%d\")) #结束时间\n",
    "    return int((smp2-smp1)/3600/24) #开始和结束相隔多少天\n",
    "print(get_daysdiff('2020-10-03','2020-10-05'))"
   ]
  },
  {
   "cell_type": "code",
   "execution_count": null,
   "id": "surface-knight",
   "metadata": {},
   "outputs": [],
   "source": [
    "import time\n",
    "import datetime\n",
    "def add_day(day,num):  #在day的基础上加num天\n",
    "    smp1=time.mktime(time.strptime(day,\"%Y-%m-%d\"))#转成时间戳\n",
    "    smp2=smp1+24*3600*num\n",
    "    day2s=time.localtime(smp2)  #把时间戳转化为结构化时间（struct time）\n",
    "    return time.strftime(\"%Y-%m-%d\",day2s)  #返回字符串时间\n",
    "#add_day('2020-10-01',1)"
   ]
  },
  {
   "cell_type": "code",
   "execution_count": null,
   "id": "alpine-pharmacology",
   "metadata": {},
   "outputs": [],
   "source": [
    " d['weekday']=datetime.datetime.strptime(d['day'],\"%Y-%m-%d\").weekday()+1 # Monday is 0 and Sunday is 6, so add 1"
   ]
  },
  {
   "cell_type": "code",
   "execution_count": null,
   "id": "spatial-wilderness",
   "metadata": {},
   "outputs": [],
   "source": []
  },
  {
   "cell_type": "code",
   "execution_count": null,
   "id": "radical-institute",
   "metadata": {},
   "outputs": [],
   "source": []
  }
 ],
 "metadata": {
  "kernelspec": {
   "display_name": "Python 3",
   "language": "python",
   "name": "python3"
  },
  "language_info": {
   "codemirror_mode": {
    "name": "ipython",
    "version": 3
   },
   "file_extension": ".py",
   "mimetype": "text/x-python",
   "name": "python",
   "nbconvert_exporter": "python",
   "pygments_lexer": "ipython3",
   "version": "3.8.10"
  }
 },
 "nbformat": 4,
 "nbformat_minor": 5
}
