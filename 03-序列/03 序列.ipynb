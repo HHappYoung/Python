{
 "cells": [
  {
   "cell_type": "markdown",
   "id": "964adb9e",
   "metadata": {},
   "source": [
    "## 一、序列概述"
   ]
  },
  {
   "cell_type": "markdown",
   "id": "0add323d",
   "metadata": {},
   "source": [
    "### （三）通用序列类型操作 "
   ]
  },
  {
   "cell_type": "markdown",
   "metadata": {},
   "source": [
    "1. 切片 sequence[startindex:endindex:steps]"
   ]
  },
  {
   "cell_type": "code",
   "execution_count": 1,
   "id": "09fe6051",
   "metadata": {},
   "outputs": [
    {
     "data": {
      "text/plain": [
       "'Express'"
      ]
     },
     "execution_count": 1,
     "metadata": {},
     "output_type": "execute_result"
    }
   ],
   "source": [
    "aStr = 'American Express Company'\n",
    "aStr[9:16]"
   ]
  },
  {
   "cell_type": "code",
   "execution_count": 1,
   "metadata": {},
   "outputs": [
    {
     "data": {
      "text/plain": [
       "['g', 'f', 'e', 'd', 'c', 'b', 'a']"
      ]
     },
     "execution_count": 1,
     "metadata": {},
     "output_type": "execute_result"
    }
   ],
   "source": [
    "aList = ['a', 'b', 'c', 'd', 'e', 'f', 'g']\n",
    "aList[::-1] # 获得aList的倒序形式"
   ]
  },
  {
   "cell_type": "markdown",
   "metadata": {},
   "source": [
    "2. 重复"
   ]
  },
  {
   "cell_type": "code",
   "execution_count": 2,
   "id": "aef7ee5d",
   "metadata": {},
   "outputs": [
    {
     "name": "stdout",
     "output_type": "stream",
     "text": [
      "55555555555555555555\n",
      "[1, 2, 3, 1, 2, 3]\n"
     ]
    }
   ],
   "source": [
    "print('5'*20)\n",
    "print([1,2,3]*2)"
   ]
  },
  {
   "cell_type": "code",
   "execution_count": 3,
   "id": "215d8cc4",
   "metadata": {},
   "outputs": [
    {
     "data": {
      "text/plain": [
       "[1, 2, 3, 4, 5, 6]"
      ]
     },
     "execution_count": 3,
     "metadata": {},
     "output_type": "execute_result"
    }
   ],
   "source": [
    "# 3.连接（必须是相同类型的序列才能连接）\n",
    "[1,2,3]+[4,5,6] "
   ]
  },
  {
   "cell_type": "markdown",
   "id": "d18c7199",
   "metadata": {},
   "source": [
    "### （四）序列类型函数"
   ]
  },
  {
   "cell_type": "markdown",
   "metadata": {},
   "source": [
    "1. len(sequence)"
   ]
  },
  {
   "cell_type": "code",
   "execution_count": 4,
   "id": "5973e654",
   "metadata": {},
   "outputs": [
    {
     "data": {
      "text/plain": [
       "5"
      ]
     },
     "execution_count": 4,
     "metadata": {},
     "output_type": "execute_result"
    }
   ],
   "source": [
    "len('apple')"
   ]
  },
  {
   "cell_type": "markdown",
   "metadata": {},
   "source": [
    "2. sorted(iter,key,reverse)"
   ]
  },
  {
   "cell_type": "code",
   "execution_count": 9,
   "id": "9881ec02",
   "metadata": {},
   "outputs": [
    {
     "name": "stdout",
     "output_type": "stream",
     "text": [
      "['a', 'e', 'l', 'p', 'p']\n",
      "[1, 2, 3, 5]\n",
      "[5, 3, 2, 1]\n"
     ]
    }
   ],
   "source": [
    "print(sorted('apple'))\n",
    "print(sorted([3,2,5,1])) #默认是从小到大排，即reverse = False\n",
    "print(sorted([3,2,5,1], reverse=True)) #逆序"
   ]
  },
  {
   "cell_type": "markdown",
   "metadata": {},
   "source": []
  },
  {
   "cell_type": "code",
   "execution_count": 11,
   "id": "1d85f312",
   "metadata": {},
   "outputs": [
    {
     "name": "stdout",
     "output_type": "stream",
     "text": [
      "<enumerate object at 0x000001DF6303A000>\n",
      "[(0, 'Spring'), (1, 'Summer'), (2, 'Fall'), (3, 'Winter')]\n",
      "[(1, 'Spring'), (2, 'Summer'), (3, 'Fall'), (4, 'Winter')]\n"
     ]
    }
   ],
   "source": [
    "# enumerate(iter,start=0)\n",
    "seasons = ['Spring', 'Summer', 'Fall', 'Winter']\n",
    "print(enumerate(seasons))  #返回的是一个迭代器\n",
    "print(list(enumerate(seasons)))  #默认从0开始\n",
    "print(list(enumerate(seasons, start=1)))  #指定起始值"
   ]
  },
  {
   "cell_type": "markdown",
   "id": "1223b594",
   "metadata": {},
   "source": [
    "## 二、字符串"
   ]
  },
  {
   "cell_type": "markdown",
   "id": "628e65fa",
   "metadata": {},
   "source": [
    "## （二）转义字符"
   ]
  },
  {
   "cell_type": "markdown",
   "id": "acc91433",
   "metadata": {},
   "source": [
    "|字符|说明|\n",
    "|:---|:---|\n",
    "|\\t|横向制表符,即Tab键对应的字符|\n",
    "\n",
    "常见空白符 \\\n",
    "空格：在字符串中用空格字符表示，即 \" \"。\\\n",
    "制表符：在字符串中用制表符表示，即 \"\\t\"。\\\n",
    "换行符：在字符串中用换行符表示，即 \"\\n\"。\\\n",
    "回车符：在字符串中用回车符表示，即 \"\\r\"。"
   ]
  },
  {
   "cell_type": "code",
   "execution_count": 12,
   "id": "1801035f",
   "metadata": {},
   "outputs": [
    {
     "name": "stdout",
     "output_type": "stream",
     "text": [
      "A\tA\n",
      " a\ta\n",
      "\n"
     ]
    }
   ],
   "source": [
    "aStr = '\\101\\t\\x41\\n'\n",
    "bStr = '\\141\\t\\x61\\n'\n",
    "print(aStr, bStr)"
   ]
  },
  {
   "cell_type": "code",
   "execution_count": null,
   "id": "49f8ef83",
   "metadata": {},
   "outputs": [],
   "source": []
  }
 ],
 "metadata": {
  "kernelspec": {
   "display_name": "Python 3 (ipykernel)",
   "language": "python",
   "name": "python3"
  },
  "language_info": {
   "codemirror_mode": {
    "name": "ipython",
    "version": 3
   },
   "file_extension": ".py",
   "mimetype": "text/x-python",
   "name": "python",
   "nbconvert_exporter": "python",
   "pygments_lexer": "ipython3",
   "version": "3.10.9"
  }
 },
 "nbformat": 4,
 "nbformat_minor": 5
}
